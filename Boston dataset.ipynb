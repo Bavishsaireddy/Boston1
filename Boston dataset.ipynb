{
 "cells": [
  {
   "cell_type": "code",
   "execution_count": 87,
   "id": "bc038f1f",
   "metadata": {},
   "outputs": [
    {
     "name": "stdout",
     "output_type": "stream",
     "text": [
      "(379, 14)\n",
      "(127, 13)\n"
     ]
    }
   ],
   "source": [
    "import numpy as np\n",
    "\n",
    "data=np.genfromtxt (r\"C:\\Users\\Hp\\Downloads\\0000000000002417_training_boston_x_y_train.csv\",delimiter=\",\")\n",
    "test_data=np.loadtxt(r\"C:\\Users\\Hp\\Downloads\\0000000000002417_test_boston_x_test.csv\", delimiter=',')\n",
    "print(data.shape)\n",
    "print(test_data.shape)"
   ]
  },
  {
   "cell_type": "code",
   "execution_count": 88,
   "id": "bceeb2be",
   "metadata": {},
   "outputs": [],
   "source": [
    "def step_gradient(points,learningrate,m):\n",
    "    N=points.shape[0]\n",
    "    col = points.shape[1]\n",
    "    newm=np.zeros(col)\n",
    "    for i in range(N):\n",
    "        x = points[i, 0:col-1]\n",
    "        x = np.append(x, 1)\n",
    "        y=points[i,col-1]\n",
    "        for j in range(col):\n",
    "            newm[j] += (-2/N) * (y - (m * x).sum()) * x[j]\n",
    "        m = m - (learningrate * newm)\n",
    "    return m"
   ]
  },
  {
   "cell_type": "code",
   "execution_count": 89,
   "id": "ca66b72e",
   "metadata": {},
   "outputs": [],
   "source": [
    "def gd(points, learning_rate, num_iteration):\n",
    "    num_col = points.shape[1]\n",
    "    m = np.zeros(num_col)\n",
    "    \n",
    "    for i in range(num_iteration):\n",
    "        m = step_gradient(points, learning_rate, m)\n",
    "        print(i, \"Cost= \", cost(points, m))\n",
    "       \n",
    "    \n",
    "    return m"
   ]
  },
  {
   "cell_type": "code",
   "execution_count": 90,
   "id": "ab8a0b38",
   "metadata": {},
   "outputs": [],
   "source": [
    "def cost(points, m):\n",
    "    total_cost = 0\n",
    "    \n",
    "    N = points.shape[0]\n",
    "    num_col = points.shape[1]\n",
    "    \n",
    "    for i in range(N):\n",
    "        x = points[i,0:num_col-1]\n",
    "        x = np.append(x, 1)\n",
    "        y = points[i,num_col-1]\n",
    "        total_cost +=(1/N) * ((y - (m * x).sum()) ** 2)\n",
    "        \n",
    "    \n",
    "    return total_cost"
   ]
  },
  {
   "cell_type": "code",
   "execution_count": 91,
   "id": "d9603c7a",
   "metadata": {},
   "outputs": [],
   "source": [
    "def run():\n",
    "    learning_rate=0.001\n",
    "    num_iteration=100\n",
    "    m=gd(data,learning_rate,num_iteration)\n",
    "    return m[0:13],m[13]"
   ]
  },
  {
   "cell_type": "code",
   "execution_count": 92,
   "id": "134cc1fc",
   "metadata": {},
   "outputs": [
    {
     "name": "stdout",
     "output_type": "stream",
     "text": [
      "0 Cost=  256.090503040544\n",
      "1 Cost=  119.29946603611229\n",
      "2 Cost=  65.20969603025226\n",
      "3 Cost=  42.63007490366465\n",
      "4 Cost=  33.36944457437439\n",
      "5 Cost=  29.1360976408107\n",
      "6 Cost=  27.250098250825218\n",
      "7 Cost=  26.221221382337024\n",
      "8 Cost=  25.672834111547733\n",
      "9 Cost=  25.297427705905985\n",
      "10 Cost=  25.048747989817528\n",
      "11 Cost=  24.851245016401403\n",
      "12 Cost=  24.700448220551227\n",
      "13 Cost=  24.573775736097915\n",
      "14 Cost=  24.47021704688688\n",
      "15 Cost=  24.381545258163687\n",
      "16 Cost=  24.30660201696864\n",
      "17 Cost=  24.241779057208827\n",
      "18 Cost=  24.185938032671714\n",
      "19 Cost=  24.137221241025394\n",
      "20 Cost=  24.094699210153934\n",
      "21 Cost=  24.0572893615721\n",
      "22 Cost=  24.024293215376396\n",
      "23 Cost=  23.995023214586443\n",
      "24 Cost=  23.968971114342253\n",
      "25 Cost=  23.945675056387323\n",
      "26 Cost=  23.924768274725253\n",
      "27 Cost=  23.905929037341362\n",
      "28 Cost=  23.888891918633327\n",
      "29 Cost=  23.873427201459624\n",
      "30 Cost=  23.859341299899864\n",
      "31 Cost=  23.84646720425072\n",
      "32 Cost=  23.834662346700757\n",
      "33 Cost=  23.823803547804143\n",
      "34 Cost=  23.813784727604215\n",
      "35 Cost=  23.80451390841447\n",
      "36 Cost=  23.795911342393143\n",
      "37 Cost=  23.78790758035901\n",
      "38 Cost=  23.780442057574962\n",
      "39 Cost=  23.773461781512346\n",
      "40 Cost=  23.76692029176488\n",
      "41 Cost=  23.760776738768783\n",
      "42 Cost=  23.754995123949605\n",
      "43 Cost=  23.749543639468257\n",
      "44 Cost=  23.744394112283363\n",
      "45 Cost=  23.73952152433202\n",
      "46 Cost=  23.734903603855333\n",
      "47 Cost=  23.730520473084713\n",
      "48 Cost=  23.726354346035105\n",
      "49 Cost=  23.72238926763689\n",
      "50 Cost=  23.718610888853338\n",
      "51 Cost=  23.71500627210363\n",
      "52 Cost=  23.711563722859257\n",
      "53 Cost=  23.708272643528392\n",
      "54 Cost=  23.705123406550364\n",
      "55 Cost=  23.702107243956114\n",
      "56 Cost=  23.69921615112976\n",
      "57 Cost=  23.696442802796344\n",
      "58 Cost=  23.693780479572037\n",
      "59 Cost=  23.69122300363922\n",
      "60 Cost=  23.68876468232207\n",
      "61 Cost=  23.686400258507316\n",
      "62 Cost=  23.68412486700605\n",
      "63 Cost=  23.68193399607725\n",
      "64 Cost=  23.67982345344261\n",
      "65 Cost=  23.67778933621367\n",
      "66 Cost=  23.675828004232553\n",
      "67 Cost=  23.6739360563943\n",
      "68 Cost=  23.67211030957741\n",
      "69 Cost=  23.670347779859235\n",
      "70 Cost=  23.66864566573593\n",
      "71 Cost=  23.667001333103066\n",
      "72 Cost=  23.66541230178604\n",
      "73 Cost=  23.663876233435424\n",
      "74 Cost=  23.66239092062762\n",
      "75 Cost=  23.66095427703083\n",
      "76 Cost=  23.6595643285141\n",
      "77 Cost=  23.658219205092955\n",
      "78 Cost=  23.656917133618464\n",
      "79 Cost=  23.65565643112761\n",
      "80 Cost=  23.65443549878334\n",
      "81 Cost=  23.65325281634142\n",
      "82 Cost=  23.652106937088206\n",
      "83 Cost=  23.650996483201215\n",
      "84 Cost=  23.649920141488458\n",
      "85 Cost=  23.64887665946913\n",
      "86 Cost=  23.647864841762\n",
      "87 Cost=  23.646883546751013\n",
      "88 Cost=  23.645931683502344\n",
      "89 Cost=  23.64500820890895\n",
      "90 Cost=  23.644112125041687\n",
      "91 Cost=  23.64324247668849\n",
      "92 Cost=  23.642398349064667\n",
      "93 Cost=  23.64157886567952\n",
      "94 Cost=  23.64078318634597\n",
      "95 Cost=  23.640010505320973\n",
      "96 Cost=  23.63926004956609\n",
      "97 Cost=  23.638531077118337\n",
      "98 Cost=  23.63782287556275\n",
      "99 Cost=  23.637134760598574\n"
     ]
    },
    {
     "data": {
      "text/plain": [
       "(array([-1.05615437,  0.61380191, -0.50429771,  0.68681559, -1.89747018,\n",
       "         2.47230177, -0.10096514, -2.90115571,  2.08447374, -1.21612289,\n",
       "        -2.06280871,  0.59424604, -4.00124793]),\n",
       " 22.651996364080667)"
      ]
     },
     "execution_count": 92,
     "metadata": {},
     "output_type": "execute_result"
    }
   ],
   "source": [
    "run()"
   ]
  },
  {
   "cell_type": "code",
   "execution_count": 53,
   "id": "d96d04f0",
   "metadata": {},
   "outputs": [
    {
     "name": "stdout",
     "output_type": "stream",
     "text": [
      "999 Cost=  23.61073972081222\n"
     ]
    }
   ],
   "source": [
    "m,c = run()"
   ]
  },
  {
   "cell_type": "code",
   "execution_count": 93,
   "id": "9cc1bcdb",
   "metadata": {},
   "outputs": [],
   "source": [
    "from sklearn import preprocessing\n",
    "x=data[:, :-1]\n",
    "y=data[:, -1]\n",
    "scaler=preprocessing.StandardScaler()\n",
    "scaler.fit(x)\n",
    "x=scaler.transform(x)"
   ]
  },
  {
   "cell_type": "code",
   "execution_count": 94,
   "id": "69514811",
   "metadata": {},
   "outputs": [],
   "source": [
    "test_trans=scaler.transform(test_data)"
   ]
  },
  {
   "cell_type": "code",
   "execution_count": 95,
   "id": "aea1271a",
   "metadata": {},
   "outputs": [],
   "source": [
    "\n",
    "def predict(x, m, c):\n",
    "    N = x.shape[0]\n",
    "    y = np.zeros(N)\n",
    "    \n",
    "    for i in range(N):\n",
    "        X = x[i,:]\n",
    "        y[i] = (m * X).sum() + c\n",
    "        \n",
    "    return y"
   ]
  },
  {
   "cell_type": "code",
   "execution_count": 96,
   "id": "b6d4e983",
   "metadata": {},
   "outputs": [
    {
     "data": {
      "text/plain": [
       "array([11.92492915, 28.73806034, 22.46978913, 24.69496178, 21.22541965,\n",
       "        3.24442824, 30.45580745, 25.14540461, 19.03527377, 23.85397239,\n",
       "       24.52319932, 18.10074622, 18.21255101, 21.79305345, 41.00801197,\n",
       "       24.18021607, 24.7551397 , 27.81929984, 20.67714454, 31.24679325,\n",
       "       23.98280403, 24.20015885, 32.9670881 , 35.75472161, 32.34619099,\n",
       "       16.36151828, 23.51148145, 33.03669775, 24.30383515, 33.07248545,\n",
       "       17.38898669, 26.24846943, 23.53994689, 25.46775854, 15.07134169,\n",
       "       29.54990486, 26.53293468, 20.74867394, 24.3976875 ,  9.80496508,\n",
       "        8.02001684, 29.15948019, 29.71733677, 19.60971959, 20.35222274,\n",
       "        3.31859032, 39.51252504, 25.67529356, 30.67019533, 16.95980427,\n",
       "       17.70670378, 40.74672934, 17.69248114, 21.28310939, 16.07640002,\n",
       "       21.87575897, 18.72553103, 23.62865557, 14.17448158, 17.24794713,\n",
       "       14.74335888, 28.93070091, 25.48262802, 25.79297003, 17.08333487,\n",
       "       17.25308518, 34.65698806, 17.12460928, 26.33088576, 22.46265438,\n",
       "       29.52288865, 26.32127383, 17.59850537,  5.76916141, 36.65743628,\n",
       "       25.46621647, 30.12482829, 27.43938166, 16.2152311 , 32.76955262,\n",
       "       19.34452855, 22.94184651, 23.01863212,  9.17046541, 17.43527116,\n",
       "       29.5795206 , 27.41464296,  6.12247955, 20.97170734, 19.97711356,\n",
       "       22.42693189, 20.87619639, 21.07282227, 13.62405935, 20.10959634,\n",
       "       25.61366135, 40.24726706, 18.91327378, 33.85537453, 27.18557096,\n",
       "       28.60977059, 22.08596592, 25.46428129, 31.55012623, 17.29171007,\n",
       "       26.519897  , 21.87432295, 37.00801563, 22.47163123, 16.5888235 ,\n",
       "       27.88176431,  0.25326929, 14.4779125 , 15.99695973, 36.0541423 ,\n",
       "       21.16187999, 21.22192843, 25.52639634, 22.27359968, 18.54419354,\n",
       "       14.06650499, 35.45897144, 23.13102442, 24.68283788, 18.37198787,\n",
       "       21.12110054, 14.57859039])"
      ]
     },
     "execution_count": 96,
     "metadata": {},
     "output_type": "execute_result"
    }
   ],
   "source": [
    "x_test=test_trans\n",
    "y_pred = predict(x_test, m, c)\n",
    "y_pred"
   ]
  },
  {
   "cell_type": "code",
   "execution_count": 97,
   "id": "62982dfd",
   "metadata": {},
   "outputs": [
    {
     "data": {
      "text/plain": [
       "22.95637083668366"
      ]
     },
     "execution_count": 97,
     "metadata": {},
     "output_type": "execute_result"
    }
   ],
   "source": [
    "y_pred.mean()"
   ]
  },
  {
   "cell_type": "code",
   "execution_count": 98,
   "id": "1dcf9582",
   "metadata": {},
   "outputs": [],
   "source": [
    "np.savetxt(\"bostontestdataset.csv\", y_pred, delimiter=',',fmt='%.5f')"
   ]
  },
  {
   "cell_type": "code",
   "execution_count": null,
   "id": "f102e1e9",
   "metadata": {},
   "outputs": [],
   "source": []
  },
  {
   "cell_type": "code",
   "execution_count": null,
   "id": "7bd5aeb1",
   "metadata": {},
   "outputs": [],
   "source": []
  }
 ],
 "metadata": {
  "kernelspec": {
   "display_name": "Python 3 (ipykernel)",
   "language": "python",
   "name": "python3"
  },
  "language_info": {
   "codemirror_mode": {
    "name": "ipython",
    "version": 3
   },
   "file_extension": ".py",
   "mimetype": "text/x-python",
   "name": "python",
   "nbconvert_exporter": "python",
   "pygments_lexer": "ipython3",
   "version": "3.9.11"
  }
 },
 "nbformat": 4,
 "nbformat_minor": 5
}
